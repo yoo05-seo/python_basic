{
 "cells": [
  {
   "cell_type": "markdown",
   "id": "9f123cb7-9def-4236-af94-364ad9ac5e38",
   "metadata": {},
   "source": [
    "## 1. 클래스는 왜 필요한가??"
   ]
  },
  {
   "cell_type": "code",
   "execution_count": 1,
   "id": "6742f916-b7ec-4a00-ad6e-747251b1b3df",
   "metadata": {},
   "outputs": [
    {
     "name": "stdout",
     "output_type": "stream",
     "text": [
      "3\n",
      "7\n"
     ]
    }
   ],
   "source": [
    "# 함수로 계산기 만들기\n",
    "result = 0\n",
    "\n",
    "def add(num):\n",
    "    global result\n",
    "    result += num #result에 num더하기\n",
    "    return result #result 리턴\n",
    "print(add(3)) #0+3 = 3\n",
    "print(add(4)) #3+4 = 7"
   ]
  },
  {
   "cell_type": "code",
   "execution_count": 3,
   "id": "1c04b90f-9893-44d1-86a1-4a8ef7e057b2",
   "metadata": {},
   "outputs": [
    {
     "name": "stdout",
     "output_type": "stream",
     "text": [
      "3\n",
      "7\n",
      "5\n",
      "11\n"
     ]
    }
   ],
   "source": [
    "# 계산기 2개로 각각 계산\n",
    "res1 = 0\n",
    "res2 = 0\n",
    "\n",
    "def add1(num):\n",
    "    global res1\n",
    "    res1+=num\n",
    "    return res1\n",
    "\n",
    "def add2(num):\n",
    "    global res2\n",
    "    res2+=num\n",
    "    return res2\n",
    "\n",
    "print(add1(3))\n",
    "print(add1(4))\n",
    "print(add2(5))\n",
    "print(add2(6))"
   ]
  },
  {
   "cell_type": "markdown",
   "id": "e9fc430f-f09d-487b-9a0a-748de203f753",
   "metadata": {},
   "source": [
    "## 2. 클래스와 객체"
   ]
  },
  {
   "cell_type": "code",
   "execution_count": 9,
   "id": "5a3b22a3-4618-4b18-9f26-28e092c41741",
   "metadata": {},
   "outputs": [
    {
     "name": "stdout",
     "output_type": "stream",
     "text": [
      "3\n",
      "7\n",
      "5\n",
      "11\n"
     ]
    }
   ],
   "source": [
    "# 클래스로 여러개 계산기 만들기\n",
    "class Calculator:\n",
    "    def __init__(self):\n",
    "        self.result = 0 #계산기 초기값\n",
    "    \n",
    "    def add(self, num):\n",
    "        self.result += num\n",
    "        return self.result\n",
    "\n",
    "cal1 = Calculator() # 인스턴스 - 계산기1\n",
    "cal2 = Calculator() # 인스턴스 - 계산기2\n",
    "\n",
    "print(cal1.add(3))\n",
    "print(cal1.add(4))\n",
    "print(cal2.add(5))\n",
    "print(cal2.add(6))"
   ]
  },
  {
   "cell_type": "code",
   "execution_count": 13,
   "id": "de62b428-cd87-4366-97ee-1b97fc38f4c3",
   "metadata": {},
   "outputs": [
    {
     "name": "stdout",
     "output_type": "stream",
     "text": [
      "10\n",
      "13\n",
      "8\n",
      "--------------------\n",
      "-5\n",
      "15\n"
     ]
    }
   ],
   "source": [
    "# 더하기 / 빼기 기능이 있는 계산기의 설계도(class)\n",
    "class Calculator:\n",
    "    def __init__(self):\n",
    "        self.result = 0 #계산기 초기값\n",
    "    \n",
    "    def add(self, num):\n",
    "        self.result += num\n",
    "        return self.result\n",
    "\n",
    "    def sub(self, num):\n",
    "        self.result -= num\n",
    "        return self.result\n",
    "\n",
    "cal1 = Calculator()\n",
    "print(cal1.add(10)) # 0+10 = 10\n",
    "print(cal1.add(3)) # 10+3 = 13\n",
    "print(cal1.sub(5)) # 13-5 = 8\n",
    "print('-'*20)\n",
    "cal2 = Calculator()\n",
    "print(cal2.sub(5)) # 0-5 = -5\n",
    "print(cal2.add(20)) # -5+20 = 15"
   ]
  },
  {
   "cell_type": "markdown",
   "id": "36702b39-0610-4510-92ca-c763ea21cca9",
   "metadata": {},
   "source": [
    "## 3. 사칙연산 클래스 만들기"
   ]
  },
  {
   "cell_type": "code",
   "execution_count": 14,
   "id": "9d3480b2-5e52-4986-b098-b549f82a2e78",
   "metadata": {},
   "outputs": [],
   "source": [
    "class FourCal:\n",
    "    pass"
   ]
  },
  {
   "cell_type": "code",
   "execution_count": 15,
   "id": "7eafd07b-d416-4b12-b75f-d54858686da4",
   "metadata": {},
   "outputs": [
    {
     "data": {
      "text/plain": [
       "__main__.FourCal"
      ]
     },
     "execution_count": 15,
     "metadata": {},
     "output_type": "execute_result"
    }
   ],
   "source": [
    "a = FourCal()\n",
    "type(a)"
   ]
  },
  {
   "cell_type": "code",
   "execution_count": 16,
   "id": "c84b79ee-787d-4e09-9de1-7fd097fc8d70",
   "metadata": {},
   "outputs": [],
   "source": [
    "class FourCal:\n",
    "    def setdata(self, x, y):\n",
    "        self.first = x\n",
    "        self.second = y"
   ]
  },
  {
   "cell_type": "code",
   "execution_count": 18,
   "id": "ed37a77b-8393-4a41-8e73-5ed006b4ac26",
   "metadata": {},
   "outputs": [
    {
     "name": "stdout",
     "output_type": "stream",
     "text": [
      "3 4\n"
     ]
    }
   ],
   "source": [
    "a = FourCal() # 인스턴스 생성\n",
    "a.setdata(3, 4)\n",
    "print(a.first, a.second)"
   ]
  },
  {
   "cell_type": "code",
   "execution_count": 22,
   "id": "7bf3b931-2793-492f-a424-3fb79c08b0af",
   "metadata": {},
   "outputs": [
    {
     "name": "stdout",
     "output_type": "stream",
     "text": [
      "6\n",
      "2\n",
      "8\n",
      "2.0\n",
      "********************\n",
      "11\n",
      "-5\n",
      "24\n",
      "0.375\n"
     ]
    }
   ],
   "source": [
    "class FourCal:\n",
    "    def setdata(self, x, y):\n",
    "        self.first = x\n",
    "        self.second = y\n",
    "\n",
    "    def add(self):\n",
    "        result = self.first + self.second\n",
    "        return result\n",
    "\n",
    "    def sub(self):\n",
    "        result = self.first - self.second\n",
    "        return result\n",
    "    \n",
    "    def mul(self):\n",
    "        result = self.first * self.second\n",
    "        return result\n",
    "\n",
    "    def div(self):\n",
    "        result = self.first / self.second\n",
    "        return result\n",
    "\n",
    "cal1 = FourCal() # 계산기1\n",
    "cal2 = FourCal() # 계산기2\n",
    "\n",
    "# 계산기에 2개의 숫자 입력\n",
    "cal1.setdata(4,2)\n",
    "cal2.setdata(3,8)\n",
    "\n",
    "print(cal1.add())\n",
    "print(cal1.sub())\n",
    "print(cal1.mul())\n",
    "print(cal1.div())\n",
    "print('*'*20)\n",
    "print(cal2.add())\n",
    "print(cal2.sub())\n",
    "print(cal2.mul())\n",
    "print(cal2.div())"
   ]
  },
  {
   "cell_type": "markdown",
   "id": "785945fb-df5a-4262-abe7-e26b530c22a6",
   "metadata": {},
   "source": [
    "### 4. 생성자"
   ]
  },
  {
   "cell_type": "code",
   "execution_count": 23,
   "id": "ef7727f5-bc76-407b-80f2-96b074849d26",
   "metadata": {},
   "outputs": [],
   "source": [
    "class FourCal:\n",
    "    def __init__(self, x, y):\n",
    "        self.first = x\n",
    "        self.second = y\n",
    "\n",
    "    def add(self):\n",
    "        result = self.first + self.second\n",
    "        return result\n",
    "\n",
    "    def sub(self):\n",
    "        result = self.first - self.second\n",
    "        return result\n",
    "    \n",
    "    def mul(self):\n",
    "        result = self.first * self.second\n",
    "        return result\n",
    "\n",
    "    def div(self):\n",
    "        result = self.first / self.second\n",
    "        return result"
   ]
  },
  {
   "cell_type": "code",
   "execution_count": 24,
   "id": "15799922-d369-490e-afeb-ab1a3e243162",
   "metadata": {},
   "outputs": [
    {
     "ename": "TypeError",
     "evalue": "FourCal.__init__() missing 2 required positional arguments: 'x' and 'y'",
     "output_type": "error",
     "traceback": [
      "\u001b[1;31m---------------------------------------------------------------------------\u001b[0m",
      "\u001b[1;31mTypeError\u001b[0m                                 Traceback (most recent call last)",
      "Cell \u001b[1;32mIn[24], line 1\u001b[0m\n\u001b[1;32m----> 1\u001b[0m calc1 \u001b[38;5;241m=\u001b[39m FourCal()\n",
      "\u001b[1;31mTypeError\u001b[0m: FourCal.__init__() missing 2 required positional arguments: 'x' and 'y'"
     ]
    }
   ],
   "source": [
    "calc1 = FourCal()"
   ]
  },
  {
   "cell_type": "code",
   "execution_count": 25,
   "id": "aae195b9-de0e-4aad-89c7-8fc687fc7316",
   "metadata": {},
   "outputs": [],
   "source": [
    "calc1 = FourCal(15,3)"
   ]
  },
  {
   "cell_type": "code",
   "execution_count": 26,
   "id": "18bb38a5-c706-470f-a352-e3361ff954a6",
   "metadata": {},
   "outputs": [
    {
     "data": {
      "text/plain": [
       "15"
      ]
     },
     "execution_count": 26,
     "metadata": {},
     "output_type": "execute_result"
    }
   ],
   "source": [
    "calc1.first"
   ]
  },
  {
   "cell_type": "code",
   "execution_count": 27,
   "id": "ed90fee8-cf37-48d5-91d0-ac590a3ea173",
   "metadata": {},
   "outputs": [
    {
     "data": {
      "text/plain": [
       "3"
      ]
     },
     "execution_count": 27,
     "metadata": {},
     "output_type": "execute_result"
    }
   ],
   "source": [
    "calc1.second"
   ]
  },
  {
   "cell_type": "code",
   "execution_count": 29,
   "id": "f1d83dd0-d7ed-4a4c-8c94-509981e5c06c",
   "metadata": {},
   "outputs": [
    {
     "name": "stdout",
     "output_type": "stream",
     "text": [
      "15 + 3 =  18\n",
      "15 - 3 =  12\n",
      "15 / 3 =  45\n",
      "15 * 3 =  5.0\n"
     ]
    }
   ],
   "source": [
    "print('15 + 3 = ',calc1.add())\n",
    "print('15 - 3 = ',calc1.sub())\n",
    "print('15 / 3 = ',calc1.mul())\n",
    "print('15 * 3 = ',calc1.div())"
   ]
  },
  {
   "cell_type": "markdown",
   "id": "1ff85d81-cb4a-45e3-9ea4-2f641a319abc",
   "metadata": {},
   "source": [
    "## 5. 클래스 상속"
   ]
  },
  {
   "cell_type": "code",
   "execution_count": 31,
   "id": "03047c8b-367e-4c28-9dbc-9609bc270857",
   "metadata": {},
   "outputs": [],
   "source": [
    "class MoreFourCal(FourCal):\n",
    "    pass"
   ]
  },
  {
   "cell_type": "code",
   "execution_count": 32,
   "id": "2dad963d-4b63-49e7-9189-71e445eb6e57",
   "metadata": {},
   "outputs": [],
   "source": [
    "cal1 = MoreFourCal(4,2)"
   ]
  },
  {
   "cell_type": "code",
   "execution_count": 33,
   "id": "aeec0134-0d57-49cf-aa0a-1ae5f6ac5d3d",
   "metadata": {},
   "outputs": [
    {
     "name": "stdout",
     "output_type": "stream",
     "text": [
      "6\n",
      "2\n",
      "8\n",
      "2.0\n"
     ]
    }
   ],
   "source": [
    "print(cal1.add())\n",
    "print(cal1.sub())\n",
    "print(cal1.mul())\n",
    "print(cal1.div())"
   ]
  },
  {
   "cell_type": "code",
   "execution_count": 35,
   "id": "ee7ff012-5be8-4bbe-95d6-f915d948ba3b",
   "metadata": {},
   "outputs": [
    {
     "name": "stdout",
     "output_type": "stream",
     "text": [
      "6\n",
      "2\n",
      "8\n",
      "2.0\n",
      "16\n"
     ]
    }
   ],
   "source": [
    "# 기본기능은 상속받았고, MoreFourCal만의 기능을 추가\n",
    "class MoreFourCal1(FourCal):\n",
    "    def pow(self):\n",
    "        result = self.first ** self.second\n",
    "        return result\n",
    "\n",
    "cal2 = MoreFourCal1(4,2)\n",
    "\n",
    "print(cal2.add())\n",
    "print(cal2.sub())\n",
    "print(cal2.mul())\n",
    "print(cal2.div())\n",
    "print(cal2.pow())"
   ]
  },
  {
   "cell_type": "code",
   "execution_count": 36,
   "id": "953c804b-674a-4dcf-b3a8-2dde5eb8df5a",
   "metadata": {},
   "outputs": [
    {
     "name": "stdout",
     "output_type": "stream",
     "text": [
      "4\n",
      "4\n",
      "0\n"
     ]
    }
   ],
   "source": [
    "ca13 = MoreFourCal(4,0)\n",
    "print(ca13.add())\n",
    "print(ca13.sub())\n",
    "print(ca13.mul())"
   ]
  },
  {
   "cell_type": "code",
   "execution_count": 37,
   "id": "eb5ab936-295e-48a8-8ac6-f207d3afe157",
   "metadata": {},
   "outputs": [
    {
     "ename": "ZeroDivisionError",
     "evalue": "division by zero",
     "output_type": "error",
     "traceback": [
      "\u001b[1;31m---------------------------------------------------------------------------\u001b[0m",
      "\u001b[1;31mZeroDivisionError\u001b[0m                         Traceback (most recent call last)",
      "Cell \u001b[1;32mIn[37], line 1\u001b[0m\n\u001b[1;32m----> 1\u001b[0m \u001b[38;5;28mprint\u001b[39m(ca13\u001b[38;5;241m.\u001b[39mdiv())\n",
      "Cell \u001b[1;32mIn[23], line 19\u001b[0m, in \u001b[0;36mFourCal.div\u001b[1;34m(self)\u001b[0m\n\u001b[0;32m     18\u001b[0m \u001b[38;5;28;01mdef\u001b[39;00m\u001b[38;5;250m \u001b[39m\u001b[38;5;21mdiv\u001b[39m(\u001b[38;5;28mself\u001b[39m):\n\u001b[1;32m---> 19\u001b[0m     result \u001b[38;5;241m=\u001b[39m \u001b[38;5;28mself\u001b[39m\u001b[38;5;241m.\u001b[39mfirst \u001b[38;5;241m/\u001b[39m \u001b[38;5;28mself\u001b[39m\u001b[38;5;241m.\u001b[39msecond\n\u001b[0;32m     20\u001b[0m     \u001b[38;5;28;01mreturn\u001b[39;00m result\n",
      "\u001b[1;31mZeroDivisionError\u001b[0m: division by zero"
     ]
    }
   ],
   "source": [
    "print(ca13.div())"
   ]
  },
  {
   "cell_type": "markdown",
   "id": "4ea675dc-12b4-4f2d-b471-19c37480fcb1",
   "metadata": {},
   "source": [
    "## 6. 메서드 오버라이딩"
   ]
  },
  {
   "cell_type": "code",
   "execution_count": 38,
   "id": "182527f7-2d31-49f8-a6fe-a962dcdba7be",
   "metadata": {},
   "outputs": [],
   "source": [
    "class SafeFourCal(FourCal):\n",
    "    # 상속받은 메서드 재정의(overriding)\n",
    "    def div(self):\n",
    "        if self.second ==0:\n",
    "            return 0\n",
    "        else:\n",
    "            result = self.first / self.second\n",
    "            return result"
   ]
  },
  {
   "cell_type": "code",
   "execution_count": 41,
   "id": "de4735c8-8768-46bc-9a60-0e5aa5bbaf38",
   "metadata": {},
   "outputs": [],
   "source": [
    "calc = SafeFourCal(4,0)"
   ]
  },
  {
   "cell_type": "code",
   "execution_count": 42,
   "id": "90711345-573d-4837-8a69-0609a49c0c01",
   "metadata": {},
   "outputs": [
    {
     "name": "stdout",
     "output_type": "stream",
     "text": [
      "4\n",
      "4\n",
      "0\n",
      "0\n"
     ]
    }
   ],
   "source": [
    "print(calc.add())\n",
    "print(calc.sub())\n",
    "print(calc.mul())\n",
    "print(calc.div())"
   ]
  },
  {
   "cell_type": "markdown",
   "id": "b3c9cac2-d495-4660-ab88-beebee5e59bd",
   "metadata": {},
   "source": [
    "## 7. 클래스 변수"
   ]
  },
  {
   "cell_type": "code",
   "execution_count": 43,
   "id": "65e0ec9e-c742-48a4-960d-f97a1afcd027",
   "metadata": {},
   "outputs": [],
   "source": [
    "class Family:\n",
    "    lastname = '이'"
   ]
  },
  {
   "cell_type": "code",
   "execution_count": 44,
   "id": "e680ee02-cd13-4d30-902e-6142112e7945",
   "metadata": {},
   "outputs": [
    {
     "data": {
      "text/plain": [
       "'이'"
      ]
     },
     "execution_count": 44,
     "metadata": {},
     "output_type": "execute_result"
    }
   ],
   "source": [
    "Family.lastname"
   ]
  },
  {
   "cell_type": "code",
   "execution_count": 45,
   "id": "15738143-aa40-429a-af44-4db059dbe89e",
   "metadata": {},
   "outputs": [
    {
     "name": "stdout",
     "output_type": "stream",
     "text": [
      "이\n",
      "이\n"
     ]
    }
   ],
   "source": [
    "a = Family()\n",
    "b = Family()\n",
    "print(a.lastname)\n",
    "print(b.lastname)"
   ]
  },
  {
   "cell_type": "code",
   "execution_count": 48,
   "id": "ad02245f-ef6d-4409-9111-ab04a1868d92",
   "metadata": {},
   "outputs": [
    {
     "name": "stdout",
     "output_type": "stream",
     "text": [
      "김\n",
      "김\n"
     ]
    }
   ],
   "source": [
    "# 클래스 변수 변경\n",
    "Family.lastname = \"김\"\n",
    "# Family.lastname => 클래스 변수, 클래스 변수를 변경하면 인스턴스 변수도 변경\n",
    "print(a.lastname)\n",
    "print(b.lastname)"
   ]
  },
  {
   "cell_type": "code",
   "execution_count": 49,
   "id": "d95c3b65-6bfe-4398-8250-ed20de6d03c6",
   "metadata": {},
   "outputs": [
    {
     "name": "stdout",
     "output_type": "stream",
     "text": [
      "최\n",
      "김\n"
     ]
    }
   ],
   "source": [
    "# 인스턴스 변수만 변경\n",
    "a.lastname = \"최\"\n",
    "print(a.lastname)\n",
    "print(b.lastname)"
   ]
  },
  {
   "cell_type": "code",
   "execution_count": null,
   "id": "388cb582-5b84-413b-ae3c-ad00fe594c98",
   "metadata": {},
   "outputs": [],
   "source": []
  }
 ],
 "metadata": {
  "kernelspec": {
   "display_name": "Python 3 (ipykernel)",
   "language": "python",
   "name": "python3"
  },
  "language_info": {
   "codemirror_mode": {
    "name": "ipython",
    "version": 3
   },
   "file_extension": ".py",
   "mimetype": "text/x-python",
   "name": "python",
   "nbconvert_exporter": "python",
   "pygments_lexer": "ipython3",
   "version": "3.13.5"
  }
 },
 "nbformat": 4,
 "nbformat_minor": 5
}
