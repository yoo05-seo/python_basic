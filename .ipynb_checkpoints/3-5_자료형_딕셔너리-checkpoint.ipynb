{
 "cells": [
  {
   "cell_type": "markdown",
   "id": "d11f839f-bc94-4a24-b34d-bb45b213d934",
   "metadata": {},
   "source": [
    "## 2. 딕셔너리는 어떻게 만들까?"
   ]
  },
  {
   "cell_type": "code",
   "execution_count": 2,
   "id": "e04ed31c-7af9-4c6a-8159-40656ff541f8",
   "metadata": {},
   "outputs": [
    {
     "data": {
      "text/plain": [
       "dict"
      ]
     },
     "execution_count": 2,
     "metadata": {},
     "output_type": "execute_result"
    }
   ],
   "source": [
    "dic = {'name':'lys' , 'phone': '010-3437-2724', 'birth': '0506'}\n",
    "type(dic)"
   ]
  },
  {
   "cell_type": "code",
   "execution_count": 3,
   "id": "450e2b35-8b17-4570-ae20-e9e4c6616208",
   "metadata": {},
   "outputs": [
    {
     "data": {
      "text/plain": [
       "'lys'"
      ]
     },
     "execution_count": 3,
     "metadata": {},
     "output_type": "execute_result"
    }
   ],
   "source": [
    "dic['name']"
   ]
  },
  {
   "cell_type": "code",
   "execution_count": 4,
   "id": "30757d46-c5b4-44f1-a68b-c98fa497f708",
   "metadata": {},
   "outputs": [
    {
     "data": {
      "text/plain": [
       "'010-3437-2724'"
      ]
     },
     "execution_count": 4,
     "metadata": {},
     "output_type": "execute_result"
    }
   ],
   "source": [
    "dic['phone']"
   ]
  },
  {
   "cell_type": "code",
   "execution_count": 5,
   "id": "ed69717e-e70f-412d-b659-528657e39261",
   "metadata": {},
   "outputs": [
    {
     "data": {
      "text/plain": [
       "'0506'"
      ]
     },
     "execution_count": 5,
     "metadata": {},
     "output_type": "execute_result"
    }
   ],
   "source": [
    "dic['birth']"
   ]
  },
  {
   "cell_type": "code",
   "execution_count": 6,
   "id": "4e5e068f-b759-45f8-9c85-d7479d3f2e5b",
   "metadata": {},
   "outputs": [
    {
     "data": {
      "text/plain": [
       "{'a': [1, 2, 3]}"
      ]
     },
     "execution_count": 6,
     "metadata": {},
     "output_type": "execute_result"
    }
   ],
   "source": [
    "a = {'a' : [1,2,3]}\n",
    "a"
   ]
  },
  {
   "cell_type": "markdown",
   "id": "753cd5a8-5fe9-4ad2-a8cf-29f54f5f1237",
   "metadata": {},
   "source": [
    "## 3. 딕셔너리 쌍 추가, 삭제하기"
   ]
  },
  {
   "cell_type": "code",
   "execution_count": 7,
   "id": "b6602e42-e6f3-416e-aadb-ac70eda41262",
   "metadata": {},
   "outputs": [
    {
     "data": {
      "text/plain": [
       "{1: 'a', 2: 'b'}"
      ]
     },
     "execution_count": 7,
     "metadata": {},
     "output_type": "execute_result"
    }
   ],
   "source": [
    "a = {1: 'a'}\n",
    "a[2] = 'b'\n",
    "a"
   ]
  },
  {
   "cell_type": "code",
   "execution_count": 8,
   "id": "ecc56f65-8afe-4e18-a97d-3c1439f0352c",
   "metadata": {},
   "outputs": [
    {
     "data": {
      "text/plain": [
       "{1: 'a', 2: 'b', 'name': 'lys'}"
      ]
     },
     "execution_count": 8,
     "metadata": {},
     "output_type": "execute_result"
    }
   ],
   "source": [
    "a['name'] = 'lys'\n",
    "a"
   ]
  },
  {
   "cell_type": "code",
   "execution_count": 10,
   "id": "5be47c82-26da-423e-a73b-7493190fbb97",
   "metadata": {},
   "outputs": [
    {
     "data": {
      "text/plain": [
       "{1: 'a', 2: 'b', 'name': 'lys', 3: [1, 2, 3]}"
      ]
     },
     "execution_count": 10,
     "metadata": {},
     "output_type": "execute_result"
    }
   ],
   "source": [
    "a[3]=[1,2,3]\n",
    "a"
   ]
  },
  {
   "cell_type": "code",
   "execution_count": 11,
   "id": "9e06dd88-136b-4cd9-8d13-33c2c35d4e4e",
   "metadata": {},
   "outputs": [
    {
     "data": {
      "text/plain": [
       "{1: 'a',\n",
       " 2: 'b',\n",
       " 'name': 'lys',\n",
       " 3: [1, 2, 3],\n",
       " 'hobby': {'a': [1, 2, 3], 'b': 'sport'}}"
      ]
     },
     "execution_count": 11,
     "metadata": {},
     "output_type": "execute_result"
    }
   ],
   "source": [
    "a['hobby']={'a':[1,2,3], 'b' : 'sport'}\n",
    "a"
   ]
  },
  {
   "cell_type": "code",
   "execution_count": 12,
   "id": "7ccb81dd-cef8-4364-ba66-34b995c768ec",
   "metadata": {},
   "outputs": [
    {
     "data": {
      "text/plain": [
       "{1: 'a', 2: 'b', 'name': 'lys', 3: [1, 2, 3]}"
      ]
     },
     "execution_count": 12,
     "metadata": {},
     "output_type": "execute_result"
    }
   ],
   "source": [
    "del a['hobby']\n",
    "a"
   ]
  },
  {
   "cell_type": "code",
   "execution_count": 13,
   "id": "addafa3f-c2e0-43d2-a930-bd62227a12bd",
   "metadata": {},
   "outputs": [
    {
     "data": {
      "text/plain": [
       "{1: 'a', 'name': 'lys', 3: [1, 2, 3]}"
      ]
     },
     "execution_count": 13,
     "metadata": {},
     "output_type": "execute_result"
    }
   ],
   "source": [
    "del a[2]\n",
    "a"
   ]
  },
  {
   "cell_type": "markdown",
   "id": "ebf2f202-23a1-47bf-9bed-89bd5e6d1b29",
   "metadata": {},
   "source": [
    "# 4. 딕셔너리를 사용하는 방법"
   ]
  },
  {
   "cell_type": "code",
   "execution_count": 14,
   "id": "756f2dff-cf45-415d-aafb-24995a214225",
   "metadata": {},
   "outputs": [
    {
     "name": "stdout",
     "output_type": "stream",
     "text": [
      "10\n",
      "99\n"
     ]
    }
   ],
   "source": [
    "grade = {'pey' : 10, 'jullet' : 99}\n",
    "print(grade['pey'])\n",
    "print(grade['jullet'])"
   ]
  },
  {
   "cell_type": "code",
   "execution_count": 15,
   "id": "94297807-c856-4525-9221-94622da9f787",
   "metadata": {},
   "outputs": [
    {
     "data": {
      "text/plain": [
       "'a'"
      ]
     },
     "execution_count": 15,
     "metadata": {},
     "output_type": "execute_result"
    }
   ],
   "source": [
    "a = {1 : 'a', 2 : 'b'}\n",
    "a[1]"
   ]
  },
  {
   "cell_type": "code",
   "execution_count": 18,
   "id": "aff50f19-7097-4965-9a23-98fbdfe042e7",
   "metadata": {},
   "outputs": [
    {
     "data": {
      "text/plain": [
       "{1: 'b'}"
      ]
     },
     "execution_count": 18,
     "metadata": {},
     "output_type": "execute_result"
    }
   ],
   "source": [
    "# 딕셔너리만들때 주의사항\n",
    "# 키는 중복 불가능\n",
    "a = {1 : 'a', 1 : 'b'}\n",
    "a"
   ]
  },
  {
   "cell_type": "code",
   "execution_count": 19,
   "id": "36c2c37b-a26b-4ee0-8432-5d1d93900b10",
   "metadata": {},
   "outputs": [
    {
     "ename": "TypeError",
     "evalue": "unhashable type: 'list'",
     "output_type": "error",
     "traceback": [
      "\u001b[1;31m---------------------------------------------------------------------------\u001b[0m",
      "\u001b[1;31mTypeError\u001b[0m                                 Traceback (most recent call last)",
      "Cell \u001b[1;32mIn[19], line 2\u001b[0m\n\u001b[0;32m      1\u001b[0m \u001b[38;5;66;03m# 키는 리스트 불가(숫자, 문자열 가능)\u001b[39;00m\n\u001b[1;32m----> 2\u001b[0m a \u001b[38;5;241m=\u001b[39m {[\u001b[38;5;241m1\u001b[39m,\u001b[38;5;241m2\u001b[39m] : \u001b[38;5;124m'\u001b[39m\u001b[38;5;124mhi\u001b[39m\u001b[38;5;124m'\u001b[39m}\n",
      "\u001b[1;31mTypeError\u001b[0m: unhashable type: 'list'"
     ]
    }
   ],
   "source": [
    "# 키는 리스트 불가(숫자, 문자열 가능)\n",
    "a = {[1,2] : 'hi'}"
   ]
  },
  {
   "cell_type": "markdown",
   "id": "eb453d42-0825-4c9d-b3e1-55af6aeb5206",
   "metadata": {},
   "source": [
    "## 5 . 딕셔너리 관련 함수"
   ]
  },
  {
   "cell_type": "code",
   "execution_count": 20,
   "id": "085168f7-6f41-469f-8f63-bf1cef0c2537",
   "metadata": {},
   "outputs": [
    {
     "data": {
      "text/plain": [
       "dict_keys(['name', 'phone', 'birth'])"
      ]
     },
     "execution_count": 20,
     "metadata": {},
     "output_type": "execute_result"
    }
   ],
   "source": [
    "# keys() : key 리스트 만들기\n",
    "dic = {'name':'lys' , 'phone': '010-3437-2724', 'birth': '0506'}\n",
    "dic.keys()"
   ]
  },
  {
   "cell_type": "code",
   "execution_count": 21,
   "id": "d2456f91-8069-41d2-bdb6-0f6f5cdfca20",
   "metadata": {},
   "outputs": [
    {
     "data": {
      "text/plain": [
       "dict_values(['lys', '010-3437-2724', '0506'])"
      ]
     },
     "execution_count": 21,
     "metadata": {},
     "output_type": "execute_result"
    }
   ],
   "source": [
    "#values() : values 리스트 만들기\n",
    "dic.values()"
   ]
  },
  {
   "cell_type": "code",
   "execution_count": 22,
   "id": "30883f40-6113-4294-be34-7ce2fb99635f",
   "metadata": {},
   "outputs": [
    {
     "name": "stdout",
     "output_type": "stream",
     "text": [
      "name\n",
      "phone\n",
      "birth\n"
     ]
    }
   ],
   "source": [
    "for k in dic.keys():\n",
    "    print(k)"
   ]
  },
  {
   "cell_type": "code",
   "execution_count": 23,
   "id": "68a62a28-6f22-4488-b023-b6579a697e79",
   "metadata": {},
   "outputs": [
    {
     "data": {
      "text/plain": [
       "dict_items([('name', 'lys'), ('phone', '010-3437-2724'), ('birth', '0506')])"
      ]
     },
     "execution_count": 23,
     "metadata": {},
     "output_type": "execute_result"
    }
   ],
   "source": [
    "# items() key,value 쌍 얻기\n",
    "dic.items()"
   ]
  },
  {
   "cell_type": "code",
   "execution_count": 24,
   "id": "f719ab6c-dc0e-4c4f-890d-beae3f4aadc6",
   "metadata": {},
   "outputs": [
    {
     "data": {
      "text/plain": [
       "{'name': 'lys', 'phone': '010-3437-2724', 'birth': '0506'}"
      ]
     },
     "execution_count": 24,
     "metadata": {},
     "output_type": "execute_result"
    }
   ],
   "source": [
    "dic"
   ]
  },
  {
   "cell_type": "code",
   "execution_count": 25,
   "id": "31f3d227-034d-41f2-98da-285b7eeeae65",
   "metadata": {},
   "outputs": [
    {
     "data": {
      "text/plain": [
       "{}"
      ]
     },
     "execution_count": 25,
     "metadata": {},
     "output_type": "execute_result"
    }
   ],
   "source": [
    "# clear() 딕셔너리 아이템들 모두 지우기\n",
    "dic.clear()\n",
    "dic"
   ]
  },
  {
   "cell_type": "code",
   "execution_count": 26,
   "id": "7fcd3dd2-e28a-44ea-ba74-c19ff34b5058",
   "metadata": {},
   "outputs": [
    {
     "data": {
      "text/plain": [
       "dict"
      ]
     },
     "execution_count": 26,
     "metadata": {},
     "output_type": "execute_result"
    }
   ],
   "source": [
    "type(dic)"
   ]
  },
  {
   "cell_type": "code",
   "execution_count": 27,
   "id": "79f6947b-a6a2-458e-964b-cddeb124f4ec",
   "metadata": {},
   "outputs": [
    {
     "data": {
      "text/plain": [
       "{'name': 'lys'}"
      ]
     },
     "execution_count": 27,
     "metadata": {},
     "output_type": "execute_result"
    }
   ],
   "source": [
    "dic['name'] = 'lys'\n",
    "dic"
   ]
  },
  {
   "cell_type": "code",
   "execution_count": 31,
   "id": "301bfbe3-f7a8-49cb-a7b5-d0304f4e8ee5",
   "metadata": {},
   "outputs": [
    {
     "data": {
      "text/plain": [
       "{'name': 'lys',\n",
       " 'phon': '010-3437-2724',\n",
       " 'birth': '0506',\n",
       " 'phone': '010-3437-2724'}"
      ]
     },
     "execution_count": 31,
     "metadata": {},
     "output_type": "execute_result"
    }
   ],
   "source": [
    "dic['phone'] = '010-3437-2724'\n",
    "dic['birth'] = '0506'\n",
    "dic"
   ]
  },
  {
   "cell_type": "code",
   "execution_count": 29,
   "id": "1b734034-c1a2-48a2-a9fc-cef66afbe217",
   "metadata": {},
   "outputs": [
    {
     "name": "stdout",
     "output_type": "stream",
     "text": [
      "lys\n"
     ]
    }
   ],
   "source": [
    "print(dic['name'])"
   ]
  },
  {
   "cell_type": "code",
   "execution_count": 30,
   "id": "aa5a3d5b-6527-4768-aa4a-f408d3886ac9",
   "metadata": {},
   "outputs": [
    {
     "name": "stdout",
     "output_type": "stream",
     "text": [
      "010-3437-2724\n"
     ]
    }
   ],
   "source": [
    "print(dic['phon'])"
   ]
  },
  {
   "cell_type": "code",
   "execution_count": 33,
   "id": "2edbbe3e-351b-418c-919b-db8f6afccb54",
   "metadata": {},
   "outputs": [
    {
     "data": {
      "text/plain": [
       "{}"
      ]
     },
     "execution_count": 33,
     "metadata": {},
     "output_type": "execute_result"
    }
   ],
   "source": [
    "dic.clear()\n",
    "dic"
   ]
  },
  {
   "cell_type": "code",
   "execution_count": 35,
   "id": "fafac20a-10d5-4af6-86c7-67b576559972",
   "metadata": {},
   "outputs": [
    {
     "data": {
      "text/plain": [
       "{'name': 'lys'}"
      ]
     },
     "execution_count": 35,
     "metadata": {},
     "output_type": "execute_result"
    }
   ],
   "source": [
    "dic['name'] = 'lys'\n",
    "dic"
   ]
  },
  {
   "cell_type": "code",
   "execution_count": 36,
   "id": "0c0cbe8e-608d-4cbc-95e4-dc0c2a0ed950",
   "metadata": {},
   "outputs": [
    {
     "data": {
      "text/plain": [
       "{'name': 'lys', 'phone': '010-3437-2724', 'birth': '0506'}"
      ]
     },
     "execution_count": 36,
     "metadata": {},
     "output_type": "execute_result"
    }
   ],
   "source": [
    "dic['phone'] = '010-3437-2724'\n",
    "dic['birth'] = '0506'\n",
    "dic"
   ]
  },
  {
   "cell_type": "code",
   "execution_count": 38,
   "id": "822f9564-1a0c-4e70-a7ce-3aef9d34de49",
   "metadata": {},
   "outputs": [
    {
     "name": "stdout",
     "output_type": "stream",
     "text": [
      "내 이름은 lys\n"
     ]
    }
   ],
   "source": [
    "print(f\"내 이름은 {dic['name']}\")"
   ]
  },
  {
   "cell_type": "code",
   "execution_count": 40,
   "id": "35f1665f-e115-45a0-ad68-a121ed329702",
   "metadata": {},
   "outputs": [
    {
     "name": "stdout",
     "output_type": "stream",
     "text": [
      "내 전화번호는 010-3437-2724\n"
     ]
    }
   ],
   "source": [
    "print(f\"내 전화번호는 {dic['phone']}\")"
   ]
  },
  {
   "cell_type": "code",
   "execution_count": 43,
   "id": "7b842725-174c-4537-8107-a743ae58af7e",
   "metadata": {},
   "outputs": [
    {
     "data": {
      "text/plain": [
       "'lys'"
      ]
     },
     "execution_count": 43,
     "metadata": {},
     "output_type": "execute_result"
    }
   ],
   "source": [
    "#get() : key로 value 얻기\n",
    "a = {'name':'lys' , 'phone': '010-3437-2724', 'birth': '0506'}\n",
    "a.get('name')"
   ]
  },
  {
   "cell_type": "code",
   "execution_count": 44,
   "id": "bcc493c2-a74d-4b97-9765-58f0541df414",
   "metadata": {},
   "outputs": [
    {
     "data": {
      "text/plain": [
       "'010-3437-2724'"
      ]
     },
     "execution_count": 44,
     "metadata": {},
     "output_type": "execute_result"
    }
   ],
   "source": [
    "a.get('phone')"
   ]
  },
  {
   "cell_type": "code",
   "execution_count": 45,
   "id": "f441e45f-4d2c-4c13-851d-7f8e53f3a964",
   "metadata": {},
   "outputs": [
    {
     "data": {
      "text/plain": [
       "{'name': 'lys', 'phone': '010-3437-2724', 'birth': '0506'}"
      ]
     },
     "execution_count": 45,
     "metadata": {},
     "output_type": "execute_result"
    }
   ],
   "source": [
    "a"
   ]
  },
  {
   "cell_type": "code",
   "execution_count": 46,
   "id": "24b847cf-252b-4472-8553-2422fc8b52cb",
   "metadata": {},
   "outputs": [
    {
     "data": {
      "text/plain": [
       "True"
      ]
     },
     "execution_count": 46,
     "metadata": {},
     "output_type": "execute_result"
    }
   ],
   "source": [
    "# in key가 딕셔너리에 존재하는지 여부를 확인\n",
    "'name' in a"
   ]
  },
  {
   "cell_type": "code",
   "execution_count": 47,
   "id": "86eab6b4-f796-44f9-ba0a-0b7ac1c9c335",
   "metadata": {},
   "outputs": [
    {
     "data": {
      "text/plain": [
       "False"
      ]
     },
     "execution_count": 47,
     "metadata": {},
     "output_type": "execute_result"
    }
   ],
   "source": [
    "'email' in a"
   ]
  },
  {
   "cell_type": "code",
   "execution_count": 48,
   "id": "c478b1e2-8f0c-4c71-835c-d7a8cdca8357",
   "metadata": {},
   "outputs": [
    {
     "data": {
      "text/plain": [
       "True"
      ]
     },
     "execution_count": 48,
     "metadata": {},
     "output_type": "execute_result"
    }
   ],
   "source": [
    "'name' in dic"
   ]
  },
  {
   "cell_type": "code",
   "execution_count": null,
   "id": "1127cb77-5d0f-497e-abc9-f19fd31f7f6e",
   "metadata": {},
   "outputs": [],
   "source": []
  }
 ],
 "metadata": {
  "kernelspec": {
   "display_name": "Python 3 (ipykernel)",
   "language": "python",
   "name": "python3"
  },
  "language_info": {
   "codemirror_mode": {
    "name": "ipython",
    "version": 3
   },
   "file_extension": ".py",
   "mimetype": "text/x-python",
   "name": "python",
   "nbconvert_exporter": "python",
   "pygments_lexer": "ipython3",
   "version": "3.13.5"
  }
 },
 "nbformat": 4,
 "nbformat_minor": 5
}
