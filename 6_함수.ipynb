{
 "cells": [
  {
   "cell_type": "markdown",
   "id": "4782f92e-e171-4b62-a09e-2235ec7600e9",
   "metadata": {},
   "source": [
    "## 1. 파이썬 함수"
   ]
  },
  {
   "cell_type": "code",
   "execution_count": 3,
   "id": "5d3b6159-828a-41ff-bb8d-8b066ba40d08",
   "metadata": {},
   "outputs": [
    {
     "name": "stdout",
     "output_type": "stream",
     "text": [
      "7\n",
      "333\n"
     ]
    }
   ],
   "source": [
    "def add(a,b):\n",
    "    return a+b\n",
    "\n",
    "a , b = 3 , 4\n",
    "c = add(a,b)\n",
    "print(c)\n",
    "\n",
    "d = add(111,222)\n",
    "print(d)"
   ]
  },
  {
   "cell_type": "code",
   "execution_count": 8,
   "id": "09a82655-e7b1-466f-80c0-646526081e8a",
   "metadata": {},
   "outputs": [
    {
     "name": "stdout",
     "output_type": "stream",
     "text": [
      "6\n"
     ]
    }
   ],
   "source": [
    "# 1. 매개변수 O, 리턴값 O\n",
    "def minus(a,b):\n",
    "    result = a - b\n",
    "    return result\n",
    "\n",
    "a = minus(10,4)\n",
    "print(a)"
   ]
  },
  {
   "cell_type": "code",
   "execution_count": 9,
   "id": "90642707-bf46-4504-966f-4b7364c0a513",
   "metadata": {},
   "outputs": [
    {
     "name": "stdout",
     "output_type": "stream",
     "text": [
      "Hi!\n"
     ]
    }
   ],
   "source": [
    "# 2. 매개변수 X , 리턴값 O\n",
    "def say():\n",
    "    return 'Hi!'\n",
    "print(say())"
   ]
  },
  {
   "cell_type": "code",
   "execution_count": 11,
   "id": "59c054c5-0b39-4f4f-a37d-b5c3c1d4905d",
   "metadata": {},
   "outputs": [
    {
     "name": "stdout",
     "output_type": "stream",
     "text": [
      "12, 24의 합은 36입니다,\n",
      "3, 4의 합은 7입니다,\n",
      "None\n"
     ]
    }
   ],
   "source": [
    "# 3. 매개변수 O , 리턴값 X\n",
    "def add(x,y):\n",
    "    print(\"%d, %d의 합은 %d입니다,\"%(x,y,x+y))\n",
    "add(12,24)\n",
    "\n",
    "a = add(3,4)\n",
    "print(a)"
   ]
  },
  {
   "cell_type": "code",
   "execution_count": 13,
   "id": "bc1ffb3b-6794-42f6-86f1-66aae92dd93a",
   "metadata": {},
   "outputs": [
    {
     "name": "stdout",
     "output_type": "stream",
     "text": [
      "Hi~\n"
     ]
    }
   ],
   "source": [
    "# 4. 매개변수 X, 리턴값 X\n",
    "def say():\n",
    "    print('Hi~')\n",
    "say()"
   ]
  },
  {
   "cell_type": "code",
   "execution_count": 15,
   "id": "3c901407-c237-4d6a-a50a-fa3a0edeadc5",
   "metadata": {},
   "outputs": [
    {
     "name": "stdout",
     "output_type": "stream",
     "text": [
      "4\n",
      "4\n"
     ]
    }
   ],
   "source": [
    "# 키워드 매개변수\n",
    "def sub(a, b):\n",
    "    return a - b\n",
    "result = sub(7,3)\n",
    "print(result)\n",
    "\n",
    "result2 = sub(b=3, a=7)\n",
    "print(result2)"
   ]
  },
  {
   "cell_type": "code",
   "execution_count": 17,
   "id": "ad448b76-f05b-455b-9e72-3a5d1e443304",
   "metadata": {},
   "outputs": [
    {
     "name": "stdout",
     "output_type": "stream",
     "text": [
      "15\n",
      "55\n"
     ]
    }
   ],
   "source": [
    "# 가변 매개변수(*매개변수명)\n",
    "def add_many(*args):\n",
    "    result = 0\n",
    "    for i in args:\n",
    "        result += i\n",
    "    return result\n",
    "\n",
    "res1 = add_many(1,2,3,4,5)\n",
    "print(res1)\n",
    "\n",
    "res2 = add_many(1,2,3,4,5,6,7,8,9,10)\n",
    "print(res2)"
   ]
  },
  {
   "cell_type": "code",
   "execution_count": 32,
   "id": "61ef5be1-9a99-4169-a3f9-e3356b9acb24",
   "metadata": {},
   "outputs": [
    {
     "name": "stdout",
     "output_type": "stream",
     "text": [
      "15\n",
      "120\n"
     ]
    }
   ],
   "source": [
    "# 튜플형 가변 매개변수\n",
    "def add_mul(choice, *args):\n",
    "    if choice ==\"add\": #매개변수 choice에 \"add\"를 입력받았을 때\n",
    "        result = 0\n",
    "        for i in args:\n",
    "            result = result + i\n",
    "    elif choice == \"mul\": #매개변수 choice에 \"mul\"을 입력받았을 때\n",
    "        result = 1\n",
    "        for i in args:\n",
    "           result = result*i\n",
    "    return result\n",
    "result=add_mul('add',1,2,3,4,5)\n",
    "print(result)\n",
    "\n",
    "result=add_mul('mul',1,2,3,4,5)\n",
    "print(result)"
   ]
  },
  {
   "cell_type": "code",
   "execution_count": 33,
   "id": "fc4254b0-4a9b-4018-9320-fb2586fad0df",
   "metadata": {},
   "outputs": [
    {
     "name": "stdout",
     "output_type": "stream",
     "text": [
      "{'a': 1}\n",
      "{'name': 'foo', 'age': 3}\n"
     ]
    },
    {
     "data": {
      "text/plain": [
       "{'age': 3, 'name': 'foo'}"
      ]
     },
     "execution_count": 33,
     "metadata": {},
     "output_type": "execute_result"
    }
   ],
   "source": [
    "# 딕셔너리형 가변 매개변수\n",
    "def print_kwargs(**kwargs):\n",
    "    print(kwargs)\n",
    "\n",
    "print_kwargs(a=1)\n",
    "{'a':1}\n",
    "print_kwargs(name='foo', age=3)\n",
    "{'age':3,'name':'foo'}"
   ]
  },
  {
   "cell_type": "code",
   "execution_count": 37,
   "id": "8edf5eee-6cd8-4c6a-b398-2efe099eb256",
   "metadata": {},
   "outputs": [
    {
     "name": "stdout",
     "output_type": "stream",
     "text": [
      "7\n",
      "12\n"
     ]
    }
   ],
   "source": [
    "# 함수의 리턴값은 언제나 하나!\n",
    "def add_and_mul(a,b):\n",
    "    return a+b, a*b\n",
    "result1,result2=add_and_mul(3,4)\n",
    "print(result1)\n",
    "print(result2)"
   ]
  },
  {
   "cell_type": "code",
   "execution_count": 38,
   "id": "3a9664ee-2499-428f-b209-93e7de33e0c9",
   "metadata": {},
   "outputs": [
    {
     "name": "stdout",
     "output_type": "stream",
     "text": [
      "5\n"
     ]
    }
   ],
   "source": [
    "def add_and_mul(a,b):\n",
    "    return a+b #return문을 만나면 값을 반환하고 함수를 종료함.\n",
    "    return a*b\n",
    "\n",
    "result=add_and_mul(2,3)\n",
    "print(result)"
   ]
  },
  {
   "cell_type": "code",
   "execution_count": 42,
   "id": "83adca10-3a2f-4e49-a292-4d88f2d801e7",
   "metadata": {},
   "outputs": [
    {
     "name": "stdout",
     "output_type": "stream",
     "text": [
      "나의 별명은 야호 입니다.\n"
     ]
    }
   ],
   "source": [
    "# return의 또 다른 쓰임새\n",
    "\n",
    "def say_nick(nick):\n",
    "    if nick == \"바보\":\n",
    "        return\n",
    "    print(\"나의 별명은 %s 입니다.\" %nick)\n",
    "\n",
    "say_nick('야호')"
   ]
  },
  {
   "cell_type": "code",
   "execution_count": 43,
   "id": "5158dbe6-ed07-4339-8993-d917e5b2e758",
   "metadata": {},
   "outputs": [],
   "source": [
    "def say_nick(nick):\n",
    "    if nick == \"바보\":\n",
    "        return\n",
    "    print(\"나의 별명은 %s 입니다.\" %nick)\n",
    "\n",
    "say_nick('바보')"
   ]
  },
  {
   "cell_type": "code",
   "execution_count": 44,
   "id": "e84a44c2-31d1-46bf-ba1f-fb10c3ffc410",
   "metadata": {},
   "outputs": [
    {
     "name": "stdout",
     "output_type": "stream",
     "text": [
      "나의 이름은 이윤서 입니다.\n",
      "나이는 31살 입니다.\n",
      "남자입니다.\n",
      "나의 이름은 이윤서 입니다.\n",
      "나이는 31살 입니다.\n",
      "남자입니다.\n",
      "나의 이름은 이윤서 입니다.\n",
      "나이는 31살 입니다.\n",
      "여자입니다.\n"
     ]
    }
   ],
   "source": [
    "# 매개변수에 초깃값 설정하기\n",
    "\n",
    "def say_myself(name,age,man=True):\n",
    "    print(\"나의 이름은 %s 입니다.\" %name)\n",
    "    print(\"나이는 %d살 입니다.\" %age)\n",
    "    if man:\n",
    "        print(\"남자입니다.\")\n",
    "    else:\n",
    "        print(\"여자입니다.\")\n",
    "say_myself(\"이윤서\",31)\n",
    "\n",
    "say_myself(\"이윤서\",31,True)\n",
    "\n",
    "say_myself(\"이윤서\",31,False)"
   ]
  },
  {
   "cell_type": "code",
   "execution_count": 64,
   "id": "d6140e2d-7922-4d2a-8e31-520bff0ed4ea",
   "metadata": {},
   "outputs": [
    {
     "name": "stdout",
     "output_type": "stream",
     "text": [
      "4\n"
     ]
    }
   ],
   "source": [
    "# 함수 안에서 선언한 변수의 유효 범위\n",
    "def vartest(a):\n",
    "    return a+1\n",
    "a = vartest(3) # vartest함수를 실행하고 반환값을 변수a에 대입\n",
    "print(a) #변수a값 출력"
   ]
  },
  {
   "cell_type": "code",
   "execution_count": 65,
   "id": "5567ebfe-fa2f-4e14-a7e1-17d016c29aa8",
   "metadata": {},
   "outputs": [
    {
     "name": "stdout",
     "output_type": "stream",
     "text": [
      "2\n"
     ]
    }
   ],
   "source": [
    "# 함수 안에서 함수 밖의 변수를 변경\n",
    "a=1\n",
    "def vartest(a):\n",
    "    a = a+1\n",
    "    return a\n",
    "a = vartest(a) #a=vartest(1)과 같음\n",
    "print(a)"
   ]
  },
  {
   "cell_type": "code",
   "execution_count": 66,
   "id": "c6fb4ca6-91c0-4add-a5e6-d301871d2188",
   "metadata": {},
   "outputs": [
    {
     "name": "stdout",
     "output_type": "stream",
     "text": [
      "2\n"
     ]
    }
   ],
   "source": [
    "a = 1\n",
    "def vartest():\n",
    "    global a # global변수로 변경\n",
    "    a = a+1\n",
    "vartest()\n",
    "print(a)"
   ]
  },
  {
   "cell_type": "code",
   "execution_count": 67,
   "id": "7e0d97b1-b5a4-4001-ab44-4f1751239042",
   "metadata": {},
   "outputs": [
    {
     "name": "stdout",
     "output_type": "stream",
     "text": [
      "7\n"
     ]
    }
   ],
   "source": [
    "# lambda 예약어\n",
    "add = lambda a,b:a+b\n",
    "result = add(3,4)\n",
    "print(result)"
   ]
  },
  {
   "cell_type": "code",
   "execution_count": 69,
   "id": "f6db0fba-7028-401c-a005-6d9cde405ac4",
   "metadata": {},
   "outputs": [
    {
     "name": "stdout",
     "output_type": "stream",
     "text": [
      "7\n"
     ]
    }
   ],
   "source": [
    "def add(a,b):\n",
    "    return a+b\n",
    "result = add(3,4)\n",
    "print(result)"
   ]
  },
  {
   "cell_type": "markdown",
   "id": "aa1b5a01-4dba-4ac1-b45d-ed05c07a435e",
   "metadata": {},
   "source": [
    "#### 2} 리스트 평탄화하는 재귀함수 만들기"
   ]
  },
  {
   "cell_type": "code",
   "execution_count": 77,
   "id": "32961bc4-5ad0-4907-a4be-e63c00d3f59d",
   "metadata": {},
   "outputs": [
    {
     "name": "stdout",
     "output_type": "stream",
     "text": [
      "4\n",
      "원본: [[1, 2, 3], [4, [5, 6]], 7, [8, 9]]\n"
     ]
    },
    {
     "ename": "NameError",
     "evalue": "name 'data' is not defined",
     "output_type": "error",
     "traceback": [
      "\u001b[1;31m---------------------------------------------------------------------------\u001b[0m",
      "\u001b[1;31mNameError\u001b[0m                                 Traceback (most recent call last)",
      "Cell \u001b[1;32mIn[77], line 15\u001b[0m\n\u001b[0;32m     13\u001b[0m \u001b[38;5;28mprint\u001b[39m(\u001b[38;5;28mlen\u001b[39m(example))\n\u001b[0;32m     14\u001b[0m \u001b[38;5;28mprint\u001b[39m(\u001b[38;5;124m'\u001b[39m\u001b[38;5;124m원본:\u001b[39m\u001b[38;5;124m'\u001b[39m,example)\n\u001b[1;32m---> 15\u001b[0m \u001b[38;5;28mprint\u001b[39m(\u001b[38;5;124m'\u001b[39m\u001b[38;5;124m평탄화:\u001b[39m\u001b[38;5;124m'\u001b[39m, flatten(example))\n",
      "Cell \u001b[1;32mIn[77], line 4\u001b[0m, in \u001b[0;36mflatten\u001b[1;34m(date)\u001b[0m\n\u001b[0;32m      2\u001b[0m \u001b[38;5;28;01mdef\u001b[39;00m\u001b[38;5;250m \u001b[39m\u001b[38;5;21mflatten\u001b[39m(date):\n\u001b[0;32m      3\u001b[0m     output \u001b[38;5;241m=\u001b[39m[]\n\u001b[1;32m----> 4\u001b[0m     \u001b[38;5;28;01mfor\u001b[39;00m item \u001b[38;5;129;01min\u001b[39;00m data:\n\u001b[0;32m      5\u001b[0m         \u001b[38;5;28;01mif\u001b[39;00m \u001b[38;5;28mtype\u001b[39m(item) \u001b[38;5;241m==\u001b[39m \u001b[38;5;28mlist\u001b[39m:\n\u001b[0;32m      6\u001b[0m             output \u001b[38;5;241m+\u001b[39m\u001b[38;5;241m=\u001b[39m itrm\n",
      "\u001b[1;31mNameError\u001b[0m: name 'data' is not defined"
     ]
    }
   ],
   "source": [
    "# 반복문으로 리스트 평탄화\n",
    "def flatten(date):\n",
    "    output =[]\n",
    "    for item in data:\n",
    "        if type(item) == list:\n",
    "            output += itrm\n",
    "            #print(output)\n",
    "        else:\n",
    "            output.append(item)\n",
    "    return output\n",
    "\n",
    "example = [[1,2,3],[4,[5,6]],7,[8,9]]\n",
    "print(len(example))\n",
    "print('원본:',example)\n",
    "print('평탄화:', flatten(example))"
   ]
  },
  {
   "cell_type": "code",
   "execution_count": 76,
   "id": "0c88b928-4428-42e5-9ed7-ebda1c37269f",
   "metadata": {},
   "outputs": [
    {
     "name": "stdout",
     "output_type": "stream",
     "text": [
      "원본: [[1, 2, 3], [4, [5, 6]], 7, [8, 9]]\n"
     ]
    },
    {
     "ename": "NameError",
     "evalue": "name 'data' is not defined",
     "output_type": "error",
     "traceback": [
      "\u001b[1;31m---------------------------------------------------------------------------\u001b[0m",
      "\u001b[1;31mNameError\u001b[0m                                 Traceback (most recent call last)",
      "Cell \u001b[1;32mIn[76], line 14\u001b[0m\n\u001b[0;32m     12\u001b[0m example \u001b[38;5;241m=\u001b[39m [[\u001b[38;5;241m1\u001b[39m,\u001b[38;5;241m2\u001b[39m,\u001b[38;5;241m3\u001b[39m],[\u001b[38;5;241m4\u001b[39m,[\u001b[38;5;241m5\u001b[39m,\u001b[38;5;241m6\u001b[39m]],\u001b[38;5;241m7\u001b[39m,[\u001b[38;5;241m8\u001b[39m,\u001b[38;5;241m9\u001b[39m]]\n\u001b[0;32m     13\u001b[0m \u001b[38;5;28mprint\u001b[39m(\u001b[38;5;124m'\u001b[39m\u001b[38;5;124m원본:\u001b[39m\u001b[38;5;124m'\u001b[39m,example)\n\u001b[1;32m---> 14\u001b[0m \u001b[38;5;28mprint\u001b[39m(\u001b[38;5;124m'\u001b[39m\u001b[38;5;124m평탄화:\u001b[39m\u001b[38;5;124m'\u001b[39m, flatten(example))\n",
      "Cell \u001b[1;32mIn[76], line 4\u001b[0m, in \u001b[0;36mflatten\u001b[1;34m(date)\u001b[0m\n\u001b[0;32m      2\u001b[0m \u001b[38;5;28;01mdef\u001b[39;00m\u001b[38;5;250m \u001b[39m\u001b[38;5;21mflatten\u001b[39m(date):\n\u001b[0;32m      3\u001b[0m     output \u001b[38;5;241m=\u001b[39m[]\n\u001b[1;32m----> 4\u001b[0m     \u001b[38;5;28;01mfor\u001b[39;00m item \u001b[38;5;129;01min\u001b[39;00m data:\n\u001b[0;32m      5\u001b[0m         \u001b[38;5;28;01mif\u001b[39;00m \u001b[38;5;28mtype\u001b[39m(item) \u001b[38;5;241m==\u001b[39m \u001b[38;5;28mlist\u001b[39m:\n\u001b[0;32m      6\u001b[0m             output \u001b[38;5;241m+\u001b[39m\u001b[38;5;241m=\u001b[39m flatten(item)\n",
      "\u001b[1;31mNameError\u001b[0m: name 'data' is not defined"
     ]
    }
   ],
   "source": [
    "# 재귀 함수로 리스트 평탄화\n",
    "def flatten(date):\n",
    "    output =[]\n",
    "    for item in data:\n",
    "        if type(item) == list:\n",
    "            output += flatten(item)\n",
    "            print(output)\n",
    "        else:\n",
    "            output.append(item)\n",
    "    return output\n",
    "\n",
    "example = [[1,2,3],[4,[5,6]],7,[8,9]]\n",
    "print('원본:',example)\n",
    "print('평탄화:', flatten(example))"
   ]
  },
  {
   "cell_type": "code",
   "execution_count": null,
   "id": "8b80ce85-1ef3-49c1-b8ef-1476484d18a8",
   "metadata": {},
   "outputs": [],
   "source": []
  }
 ],
 "metadata": {
  "kernelspec": {
   "display_name": "Python 3 (ipykernel)",
   "language": "python",
   "name": "python3"
  },
  "language_info": {
   "codemirror_mode": {
    "name": "ipython",
    "version": 3
   },
   "file_extension": ".py",
   "mimetype": "text/x-python",
   "name": "python",
   "nbconvert_exporter": "python",
   "pygments_lexer": "ipython3",
   "version": "3.13.5"
  }
 },
 "nbformat": 4,
 "nbformat_minor": 5
}
