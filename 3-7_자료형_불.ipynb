{
 "cells": [
  {
   "cell_type": "markdown",
   "id": "5eb3a358-1980-4062-a65d-4f99a0b95dfd",
   "metadata": {},
   "source": [
    "## 1. 불 자료형은 어떻게 사용할까?"
   ]
  },
  {
   "cell_type": "code",
   "execution_count": 1,
   "id": "47616bf9-05f8-4d86-a263-6c7060a4c335",
   "metadata": {},
   "outputs": [
    {
     "name": "stdout",
     "output_type": "stream",
     "text": [
      "True False\n"
     ]
    }
   ],
   "source": [
    "# 변수에 불 자료형 지정\n",
    "a = True\n",
    "b = False\n",
    "print(a, b)"
   ]
  },
  {
   "cell_type": "code",
   "execution_count": 2,
   "id": "d177fac5-c074-44ce-938a-cba5fbfa9a1c",
   "metadata": {},
   "outputs": [
    {
     "data": {
      "text/plain": [
       "bool"
      ]
     },
     "execution_count": 2,
     "metadata": {},
     "output_type": "execute_result"
    }
   ],
   "source": [
    "type(a)"
   ]
  },
  {
   "cell_type": "code",
   "execution_count": 3,
   "id": "fc5e6c93-6c8d-4a81-9791-f5beddd637b3",
   "metadata": {},
   "outputs": [
    {
     "data": {
      "text/plain": [
       "True"
      ]
     },
     "execution_count": 3,
     "metadata": {},
     "output_type": "execute_result"
    }
   ],
   "source": [
    "# 불 자료형은 조건문의 리터값으로 사용합니다.\n",
    "1 == 1"
   ]
  },
  {
   "cell_type": "code",
   "execution_count": 4,
   "id": "91879c87-54b0-46e3-b0d4-a607e2452ba7",
   "metadata": {},
   "outputs": [
    {
     "data": {
      "text/plain": [
       "False"
      ]
     },
     "execution_count": 4,
     "metadata": {},
     "output_type": "execute_result"
    }
   ],
   "source": [
    "1==2"
   ]
  },
  {
   "cell_type": "code",
   "execution_count": 5,
   "id": "292b1a75-0994-48b9-87b8-d1c528980446",
   "metadata": {},
   "outputs": [
    {
     "data": {
      "text/plain": [
       "False"
      ]
     },
     "execution_count": 5,
     "metadata": {},
     "output_type": "execute_result"
    }
   ],
   "source": [
    "2 > 10"
   ]
  },
  {
   "cell_type": "code",
   "execution_count": 6,
   "id": "25a85b2d-23e0-40cc-91d1-fbff49b80bbe",
   "metadata": {},
   "outputs": [
    {
     "data": {
      "text/plain": [
       "True"
      ]
     },
     "execution_count": 6,
     "metadata": {},
     "output_type": "execute_result"
    }
   ],
   "source": [
    "20 > 10"
   ]
  },
  {
   "cell_type": "markdown",
   "id": "a33e9980-5164-423f-9a34-6d87f8b489c7",
   "metadata": {},
   "source": [
    "### 자료형의 참과 거짓이 어떻게 쓰이는지 알아보자"
   ]
  },
  {
   "cell_type": "code",
   "execution_count": 7,
   "id": "d500ef58-1620-4eee-ad02-1bf33a189bbb",
   "metadata": {},
   "outputs": [
    {
     "name": "stdout",
     "output_type": "stream",
     "text": [
      "4\n",
      "3\n",
      "2\n",
      "1\n"
     ]
    }
   ],
   "source": [
    "a = [1,2,3,4]\n",
    "while a : \n",
    "    print(a.pop())"
   ]
  },
  {
   "cell_type": "code",
   "execution_count": 8,
   "id": "a91ea24c-353f-4bf8-afcd-867a27e6ca14",
   "metadata": {},
   "outputs": [
    {
     "data": {
      "text/plain": [
       "[]"
      ]
     },
     "execution_count": 8,
     "metadata": {},
     "output_type": "execute_result"
    }
   ],
   "source": [
    "a"
   ]
  },
  {
   "cell_type": "code",
   "execution_count": 9,
   "id": "56180e1b-da92-46ad-abd5-caeb3c5ca2c6",
   "metadata": {},
   "outputs": [
    {
     "data": {
      "text/plain": [
       "False"
      ]
     },
     "execution_count": 9,
     "metadata": {},
     "output_type": "execute_result"
    }
   ],
   "source": [
    "bool(a)"
   ]
  },
  {
   "cell_type": "code",
   "execution_count": 11,
   "id": "96f06f93-e75a-432f-be63-82d075a9dd00",
   "metadata": {},
   "outputs": [
    {
     "name": "stdout",
     "output_type": "stream",
     "text": [
      "거짓\n"
     ]
    }
   ],
   "source": [
    "if []:\n",
    "    print(\"참\")\n",
    "else:\n",
    "    print(\"거짓\")"
   ]
  },
  {
   "cell_type": "code",
   "execution_count": 12,
   "id": "56e5d950-6140-4dbb-b235-ab5bebec198d",
   "metadata": {},
   "outputs": [
    {
     "name": "stdout",
     "output_type": "stream",
     "text": [
      "참\n"
     ]
    }
   ],
   "source": [
    "if [1,2,3]:\n",
    "    print(\"참\")\n",
    "else:\n",
    "    print(\"거짓\")"
   ]
  }
 ],
 "metadata": {
  "kernelspec": {
   "display_name": "Python 3 (ipykernel)",
   "language": "python",
   "name": "python3"
  },
  "language_info": {
   "codemirror_mode": {
    "name": "ipython",
    "version": 3
   },
   "file_extension": ".py",
   "mimetype": "text/x-python",
   "name": "python",
   "nbconvert_exporter": "python",
   "pygments_lexer": "ipython3",
   "version": "3.13.5"
  }
 },
 "nbformat": 4,
 "nbformat_minor": 5
}
